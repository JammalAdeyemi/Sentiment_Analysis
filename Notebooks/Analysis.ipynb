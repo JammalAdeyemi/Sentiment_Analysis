{
 "cells": [
  {
   "cell_type": "code",
   "execution_count": 1,
   "id": "c036a83f-dfe0-429a-8d7c-74a35f7628bc",
   "metadata": {},
   "outputs": [],
   "source": [
    "import pandas as pd\n",
    "import numpy as np\n",
    "import matplotlib.pyplot as plt\n",
    "import seaborn as sns\n",
    "\n",
    "%matplotlib inline\n",
    "\n",
    "import warnings\n",
    "warnings.filterwarnings(\"ignore\")"
   ]
  },
  {
   "cell_type": "code",
   "execution_count": 3,
   "id": "23658d70-3219-40bf-9600-596fa6e2d519",
   "metadata": {},
   "outputs": [
    {
     "data": {
      "text/html": [
       "<div>\n",
       "<style scoped>\n",
       "    .dataframe tbody tr th:only-of-type {\n",
       "        vertical-align: middle;\n",
       "    }\n",
       "\n",
       "    .dataframe tbody tr th {\n",
       "        vertical-align: top;\n",
       "    }\n",
       "\n",
       "    .dataframe thead th {\n",
       "        text-align: right;\n",
       "    }\n",
       "</style>\n",
       "<table border=\"1\" class=\"dataframe\">\n",
       "  <thead>\n",
       "    <tr style=\"text-align: right;\">\n",
       "      <th></th>\n",
       "      <th>text</th>\n",
       "      <th>label</th>\n",
       "    </tr>\n",
       "  </thead>\n",
       "  <tbody>\n",
       "    <tr>\n",
       "      <th>0</th>\n",
       "      <td>if you were curious, price chose the lowest ch...</td>\n",
       "      <td>1</td>\n",
       "    </tr>\n",
       "    <tr>\n",
       "      <th>1</th>\n",
       "      <td>true, not even 10k followers here yet.</td>\n",
       "      <td>1</td>\n",
       "    </tr>\n",
       "    <tr>\n",
       "      <th>2</th>\n",
       "      <td>dogecoin co-founder billy markus hits back at ...</td>\n",
       "      <td>1</td>\n",
       "    </tr>\n",
       "    <tr>\n",
       "      <th>3</th>\n",
       "      <td>i’m curious, do any bulls have a price where ...</td>\n",
       "      <td>1</td>\n",
       "    </tr>\n",
       "    <tr>\n",
       "      <th>4</th>\n",
       "      <td>friday everybody buy 10 more on friday</td>\n",
       "      <td>2</td>\n",
       "    </tr>\n",
       "  </tbody>\n",
       "</table>\n",
       "</div>"
      ],
      "text/plain": [
       "                                                text  label\n",
       "0  if you were curious, price chose the lowest ch...      1\n",
       "1             true, not even 10k followers here yet.      1\n",
       "2  dogecoin co-founder billy markus hits back at ...      1\n",
       "3   i’m curious, do any bulls have a price where ...      1\n",
       "4             friday everybody buy 10 more on friday      2"
      ]
     },
     "execution_count": 3,
     "metadata": {},
     "output_type": "execute_result"
    }
   ],
   "source": [
    "df = pd.read_excel('../Data/st-data-full.xlsx')\n",
    "df.head()"
   ]
  },
  {
   "cell_type": "code",
   "execution_count": 4,
   "id": "a38c92fe-1632-4b64-89cc-2a231ce65643",
   "metadata": {},
   "outputs": [
    {
     "data": {
      "text/plain": [
       "(600000, 2)"
      ]
     },
     "execution_count": 4,
     "metadata": {},
     "output_type": "execute_result"
    }
   ],
   "source": [
    "df.shape"
   ]
  },
  {
   "cell_type": "code",
   "execution_count": 5,
   "id": "1cf726af-6dff-4bb2-93f2-4e7ef4462eb9",
   "metadata": {},
   "outputs": [
    {
     "name": "stdout",
     "output_type": "stream",
     "text": [
      "<class 'pandas.core.frame.DataFrame'>\n",
      "RangeIndex: 600000 entries, 0 to 599999\n",
      "Data columns (total 2 columns):\n",
      " #   Column  Non-Null Count   Dtype \n",
      "---  ------  --------------   ----- \n",
      " 0   text    599975 non-null  object\n",
      " 1   label   600000 non-null  int64 \n",
      "dtypes: int64(1), object(1)\n",
      "memory usage: 9.2+ MB\n"
     ]
    }
   ],
   "source": [
    "df.info()"
   ]
  },
  {
   "cell_type": "markdown",
   "id": "dee0589a-153d-4d70-bc43-9ef69a5d3d3d",
   "metadata": {},
   "source": [
    "## Data Analysis and Visualization"
   ]
  },
  {
   "cell_type": "code",
   "execution_count": 6,
   "id": "5893570f-05a4-4fd0-b46e-04c740da1fac",
   "metadata": {},
   "outputs": [
    {
     "data": {
      "text/plain": [
       "' ... are you prepared for the real pain that be cometh?'"
      ]
     },
     "execution_count": 6,
     "metadata": {},
     "output_type": "execute_result"
    }
   ],
   "source": [
    "df.loc[13, \"text\"]"
   ]
  },
  {
   "cell_type": "code",
   "execution_count": 7,
   "id": "af11fc63-19a8-4393-be69-f95448628f55",
   "metadata": {},
   "outputs": [
    {
     "data": {
      "text/plain": [
       "1"
      ]
     },
     "execution_count": 7,
     "metadata": {},
     "output_type": "execute_result"
    }
   ],
   "source": [
    "df.loc[13, \"label\"]"
   ]
  },
  {
   "cell_type": "code",
   "execution_count": 8,
   "id": "f5ed7de0-9904-49fa-8cbe-e73dc942ed73",
   "metadata": {},
   "outputs": [
    {
     "data": {
      "text/plain": [
       "' robinhood and dogecoin are giving away dogecoin, bitcoin and e... '"
      ]
     },
     "execution_count": 8,
     "metadata": {},
     "output_type": "execute_result"
    }
   ],
   "source": [
    "df.loc[150000, \"text\"]"
   ]
  },
  {
   "cell_type": "code",
   "execution_count": 9,
   "id": "c35646c6-cd81-41b2-848f-756f903d99c4",
   "metadata": {},
   "outputs": [
    {
     "data": {
      "text/plain": [
       "1"
      ]
     },
     "execution_count": 9,
     "metadata": {},
     "output_type": "execute_result"
    }
   ],
   "source": [
    "df.loc[150000, \"label\"]"
   ]
  },
  {
   "cell_type": "code",
   "execution_count": 10,
   "id": "b08d4346-ff30-4e12-8199-a7005cee20c4",
   "metadata": {},
   "outputs": [
    {
     "data": {
      "text/plain": [
       "'friday everybody buy 10 more on friday'"
      ]
     },
     "execution_count": 10,
     "metadata": {},
     "output_type": "execute_result"
    }
   ],
   "source": [
    "df.loc[4, \"text\"]"
   ]
  },
  {
   "cell_type": "code",
   "execution_count": 11,
   "id": "7a4b3216-ead2-46cf-add2-db65482e8625",
   "metadata": {},
   "outputs": [
    {
     "data": {
      "text/plain": [
       "2"
      ]
     },
     "execution_count": 11,
     "metadata": {},
     "output_type": "execute_result"
    }
   ],
   "source": [
    "df.loc[4, \"label\"]"
   ]
  },
  {
   "cell_type": "markdown",
   "id": "4f88c316-0fc0-41a8-8d4d-00bf21e95eef",
   "metadata": {},
   "source": [
    "### Label"
   ]
  },
  {
   "cell_type": "code",
   "execution_count": 12,
   "id": "1e60e480-0eb9-4517-97f6-513ec33ca0a9",
   "metadata": {},
   "outputs": [
    {
     "data": {
      "text/plain": [
       "2    305092\n",
       "1    239054\n",
       "0     55854\n",
       "Name: label, dtype: int64"
      ]
     },
     "execution_count": 12,
     "metadata": {},
     "output_type": "execute_result"
    }
   ],
   "source": [
    "df['label'].value_counts()"
   ]
  },
  {
   "cell_type": "code",
   "execution_count": 13,
   "id": "0df82d7a-312f-4dbd-8d9c-9ae49b6d8f2a",
   "metadata": {},
   "outputs": [
    {
     "data": {
      "image/png": "[encoded data removed]",
      "text/plain": [
       "<Figure size 640x480 with 1 Axes>"
      ]
     },
     "metadata": {},
     "output_type": "display_data"
    }
   ],
   "source": [
    "sns.countplot(x='label', data=df);"
   ]
  },
  {
   "cell_type": "code",
   "execution_count": null,
   "id": "748e8f77-fc54-46f5-91cf-7b863b5f09cf",
   "metadata": {},
   "outputs": [],
   "source": []
  }
 ],
 "metadata": {
  "kernelspec": {
   "display_name": "Python 3 (ipykernel)",
   "language": "python",
   "name": "python3"
  },
  "language_info": {
   "codemirror_mode": {
    "name": "ipython",
    "version": 3
   },
   "file_extension": ".py",
   "mimetype": "text/x-python",
   "name": "python",
   "nbconvert_exporter": "python",
   "pygments_lexer": "ipython3",
   "version": "3.9.16"
  }
 },
 "nbformat": 4,
 "nbformat_minor": 5
}
