{
 "cells": [
  {
   "cell_type": "code",
   "execution_count": 1,
   "id": "c036a83f-dfe0-429a-8d7c-74a35f7628bc",
   "metadata": {},
   "outputs": [],
   "source": [
    "import pandas as pd\n",
    "import numpy as np\n",
    "import matplotlib.pyplot as plt\n",
    "import seaborn as sns\n",
    "import nltk\n",
    "import string\n",
    "\n",
    "%matplotlib inline\n",
    "\n",
    "from tqdm import tqdm\n",
    "from collections import Counter\n",
    "from nltk.corpus import stopwords\n",
    "from nltk.tokenize import word_tokenize, RegexpTokenizer, TweetTokenizer\n",
    "from gensim.models import KeyedVectors\n",
    "import gensim.downloader as api\n",
    "from sklearn.cluster import KMeans\n",
    "from sklearn.model_selection import train_test_split\n",
    "from sklearn.feature_extraction.text import CountVectorizer, TfidfVectorizer \n",
    "from sklearn.metrics import accuracy_score, confusion_matrix\n",
    "\n",
    "import warnings\n",
    "warnings.filterwarnings(\"ignore\")"
   ]
  },
  {
   "cell_type": "markdown",
   "id": "1655207f-30b1-4eac-a55a-bfd760f0bc7b",
   "metadata": {},
   "source": [
    "## Data Exploration"
   ]
  },
  {
   "cell_type": "code",
   "execution_count": 2,
   "id": "23658d70-3219-40bf-9600-596fa6e2d519",
   "metadata": {},
   "outputs": [
    {
     "data": {
      "text/html": [
       "<div>\n",
       "<style scoped>\n",
       "    .dataframe tbody tr th:only-of-type {\n",
       "        vertical-align: middle;\n",
       "    }\n",
       "\n",
       "    .dataframe tbody tr th {\n",
       "        vertical-align: top;\n",
       "    }\n",
       "\n",
       "    .dataframe thead th {\n",
       "        text-align: right;\n",
       "    }\n",
       "</style>\n",
       "<table border=\"1\" class=\"dataframe\">\n",
       "  <thead>\n",
       "    <tr style=\"text-align: right;\">\n",
       "      <th></th>\n",
       "      <th>text</th>\n",
       "      <th>label</th>\n",
       "    </tr>\n",
       "  </thead>\n",
       "  <tbody>\n",
       "    <tr>\n",
       "      <th>0</th>\n",
       "      <td>if you were curious, price chose the lowest ch...</td>\n",
       "      <td>1</td>\n",
       "    </tr>\n",
       "    <tr>\n",
       "      <th>1</th>\n",
       "      <td>true, not even 10k followers here yet.</td>\n",
       "      <td>1</td>\n",
       "    </tr>\n",
       "    <tr>\n",
       "      <th>2</th>\n",
       "      <td>dogecoin co-founder billy markus hits back at ...</td>\n",
       "      <td>1</td>\n",
       "    </tr>\n",
       "    <tr>\n",
       "      <th>3</th>\n",
       "      <td>i’m curious, do any bulls have a price where ...</td>\n",
       "      <td>1</td>\n",
       "    </tr>\n",
       "    <tr>\n",
       "      <th>4</th>\n",
       "      <td>friday everybody buy 10 more on friday</td>\n",
       "      <td>2</td>\n",
       "    </tr>\n",
       "  </tbody>\n",
       "</table>\n",
       "</div>"
      ],
      "text/plain": [
       "                                                text  label\n",
       "0  if you were curious, price chose the lowest ch...      1\n",
       "1             true, not even 10k followers here yet.      1\n",
       "2  dogecoin co-founder billy markus hits back at ...      1\n",
       "3   i’m curious, do any bulls have a price where ...      1\n",
       "4             friday everybody buy 10 more on friday      2"
      ]
     },
     "execution_count": 2,
     "metadata": {},
     "output_type": "execute_result"
    }
   ],
   "source": [
    "df = pd.read_excel('../Data/st-data-full.xlsx')\n",
    "df.head()"
   ]
  },
  {
   "cell_type": "code",
   "execution_count": 3,
   "id": "a38c92fe-1632-4b64-89cc-2a231ce65643",
   "metadata": {},
   "outputs": [
    {
     "data": {
      "text/plain": [
       "(600000, 2)"
      ]
     },
     "execution_count": 3,
     "metadata": {},
     "output_type": "execute_result"
    }
   ],
   "source": [
    "df.shape"
   ]
  },
  {
   "cell_type": "code",
   "execution_count": 4,
   "id": "1cf726af-6dff-4bb2-93f2-4e7ef4462eb9",
   "metadata": {},
   "outputs": [
    {
     "name": "stdout",
     "output_type": "stream",
     "text": [
      "<class 'pandas.core.frame.DataFrame'>\n",
      "RangeIndex: 600000 entries, 0 to 599999\n",
      "Data columns (total 2 columns):\n",
      " #   Column  Non-Null Count   Dtype \n",
      "---  ------  --------------   ----- \n",
      " 0   text    599975 non-null  object\n",
      " 1   label   600000 non-null  int64 \n",
      "dtypes: int64(1), object(1)\n",
      "memory usage: 9.2+ MB\n"
     ]
    }
   ],
   "source": [
    "df.info()"
   ]
  },
  {
   "cell_type": "code",
   "execution_count": 5,
   "id": "af6f16ae-9740-41dc-bac6-d948c4c3f374",
   "metadata": {},
   "outputs": [
    {
     "data": {
      "text/plain": [
       "text     25\n",
       "label     0\n",
       "dtype: int64"
      ]
     },
     "execution_count": 5,
     "metadata": {},
     "output_type": "execute_result"
    }
   ],
   "source": [
    "df.isna().sum()"
   ]
  },
  {
   "cell_type": "code",
   "execution_count": 6,
   "id": "43baa70c-80ae-476f-9df8-e0ff6c866903",
   "metadata": {},
   "outputs": [],
   "source": [
    "# drop missing values\n",
    "df.dropna(inplace=True)"
   ]
  },
  {
   "cell_type": "code",
   "execution_count": 7,
   "id": "91ad707f-0f37-4744-98a6-d361b226eeca",
   "metadata": {},
   "outputs": [
    {
     "data": {
      "text/plain": [
       "text     0\n",
       "label    0\n",
       "dtype: int64"
      ]
     },
     "execution_count": 7,
     "metadata": {},
     "output_type": "execute_result"
    }
   ],
   "source": [
    "df.isna().sum()"
   ]
  },
  {
   "cell_type": "code",
   "execution_count": 8,
   "id": "eb49057f-a84f-49c5-b6c8-c3559f5d5331",
   "metadata": {},
   "outputs": [
    {
     "data": {
      "text/plain": [
       "(599975, 2)"
      ]
     },
     "execution_count": 8,
     "metadata": {},
     "output_type": "execute_result"
    }
   ],
   "source": [
    "df.shape"
   ]
  },
  {
   "cell_type": "code",
   "execution_count": 9,
   "id": "5893570f-05a4-4fd0-b46e-04c740da1fac",
   "metadata": {},
   "outputs": [
    {
     "data": {
      "text/plain": [
       "' back over .3 today'"
      ]
     },
     "execution_count": 9,
     "metadata": {},
     "output_type": "execute_result"
    }
   ],
   "source": [
    "df.loc[30000, \"text\"]"
   ]
  },
  {
   "cell_type": "code",
   "execution_count": 10,
   "id": "af11fc63-19a8-4393-be69-f95448628f55",
   "metadata": {},
   "outputs": [
    {
     "data": {
      "text/plain": [
       "2"
      ]
     },
     "execution_count": 10,
     "metadata": {},
     "output_type": "execute_result"
    }
   ],
   "source": [
    "df.loc[30000, \"label\"]"
   ]
  },
  {
   "cell_type": "code",
   "execution_count": 11,
   "id": "f5ed7de0-9904-49fa-8cbe-e73dc942ed73",
   "metadata": {},
   "outputs": [
    {
     "data": {
      "text/plain": [
       "' robinhood and dogecoin are giving away dogecoin, bitcoin and e... '"
      ]
     },
     "execution_count": 11,
     "metadata": {},
     "output_type": "execute_result"
    }
   ],
   "source": [
    "df.loc[150000, \"text\"]"
   ]
  },
  {
   "cell_type": "code",
   "execution_count": 12,
   "id": "c35646c6-cd81-41b2-848f-756f903d99c4",
   "metadata": {},
   "outputs": [
    {
     "data": {
      "text/plain": [
       "1"
      ]
     },
     "execution_count": 12,
     "metadata": {},
     "output_type": "execute_result"
    }
   ],
   "source": [
    "df.loc[150000, \"label\"]"
   ]
  },
  {
   "cell_type": "code",
   "execution_count": 13,
   "id": "b08d4346-ff30-4e12-8199-a7005cee20c4",
   "metadata": {},
   "outputs": [
    {
     "data": {
      "text/plain": [
       "' if your not worried your a fucking liar'"
      ]
     },
     "execution_count": 13,
     "metadata": {},
     "output_type": "execute_result"
    }
   ],
   "source": [
    "df.loc[400, \"text\"]"
   ]
  },
  {
   "cell_type": "code",
   "execution_count": 14,
   "id": "7a4b3216-ead2-46cf-add2-db65482e8625",
   "metadata": {},
   "outputs": [
    {
     "data": {
      "text/plain": [
       "1"
      ]
     },
     "execution_count": 14,
     "metadata": {},
     "output_type": "execute_result"
    }
   ],
   "source": [
    "df.loc[400, \"label\"]"
   ]
  },
  {
   "cell_type": "markdown",
   "id": "4f88c316-0fc0-41a8-8d4d-00bf21e95eef",
   "metadata": {},
   "source": [
    "### Label"
   ]
  },
  {
   "cell_type": "code",
   "execution_count": 15,
   "id": "1e60e480-0eb9-4517-97f6-513ec33ca0a9",
   "metadata": {},
   "outputs": [
    {
     "data": {
      "text/plain": [
       "2    305079\n",
       "1    239043\n",
       "0     55853\n",
       "Name: label, dtype: int64"
      ]
     },
     "execution_count": 15,
     "metadata": {},
     "output_type": "execute_result"
    }
   ],
   "source": [
    "df['label'].value_counts()"
   ]
  },
  {
   "cell_type": "code",
   "execution_count": 16,
   "id": "0df82d7a-312f-4dbd-8d9c-9ae49b6d8f2a",
   "metadata": {},
   "outputs": [
    {
     "data": {
      "image/png": "[encoded data removed]",
      "text/plain": [
       "<Figure size 640x480 with 1 Axes>"
      ]
     },
     "metadata": {},
     "output_type": "display_data"
    }
   ],
   "source": [
    "sns.countplot(x='label', data=df);"
   ]
  },
  {
   "cell_type": "code",
   "execution_count": 17,
   "id": "748e8f77-fc54-46f5-91cf-7b863b5f09cf",
   "metadata": {},
   "outputs": [
    {
     "data": {
      "text/plain": [
       "Bullish    305079\n",
       "Neutral    239043\n",
       "Bearish     55853\n",
       "Name: label, dtype: int64"
      ]
     },
     "execution_count": 17,
     "metadata": {},
     "output_type": "execute_result"
    }
   ],
   "source": [
    "df['label'] = df['label'].replace({0: \"Bearish\", 1: \"Neutral\", 2: \"Bullish\"})\n",
    "df['label'].value_counts()"
   ]
  },
  {
   "cell_type": "code",
   "execution_count": 18,
   "id": "950af556-69b0-441a-b022-556178a3d97f",
   "metadata": {},
   "outputs": [
    {
     "data": {
      "image/png": "[encoded data removed]",
      "text/plain": [
       "<Figure size 640x480 with 1 Axes>"
      ]
     },
     "metadata": {},
     "output_type": "display_data"
    }
   ],
   "source": [
    "sns.countplot(x='label', data=df);"
   ]
  },
  {
   "cell_type": "markdown",
   "id": "7763fb3e-846e-431e-94dd-23804ad21a4f",
   "metadata": {},
   "source": [
    "## Text Pre-processing"
   ]
  },
  {
   "cell_type": "markdown",
   "id": "28af5aae-77ba-4944-961f-4f41827b6c87",
   "metadata": {
    "tags": []
   },
   "source": [
    "### Tokenize the data "
   ]
  },
  {
   "cell_type": "code",
   "execution_count": 20,
   "id": "84ea06f8-6aa0-4858-b34a-047fb34099b6",
   "metadata": {},
   "outputs": [],
   "source": [
    "# Convert the 'text' column to strings\n",
    "df['text'] = df['text'].astype(str)\n",
    "\n",
    "# Tokenize the text using TweetTokenizer\n",
    "tokenizer = TweetTokenizer()\n",
    "df['tokens'] = df['text'].apply(tokenizer.tokenize)"
   ]
  },
  {
   "cell_type": "code",
   "execution_count": 21,
   "id": "20ed4789-1c6f-41cc-9751-7b807557ba4c",
   "metadata": {},
   "outputs": [
    {
     "data": {
      "text/html": [
       "<div>\n",
       "<style scoped>\n",
       "    .dataframe tbody tr th:only-of-type {\n",
       "        vertical-align: middle;\n",
       "    }\n",
       "\n",
       "    .dataframe tbody tr th {\n",
       "        vertical-align: top;\n",
       "    }\n",
       "\n",
       "    .dataframe thead th {\n",
       "        text-align: right;\n",
       "    }\n",
       "</style>\n",
       "<table border=\"1\" class=\"dataframe\">\n",
       "  <thead>\n",
       "    <tr style=\"text-align: right;\">\n",
       "      <th></th>\n",
       "      <th>text</th>\n",
       "      <th>label</th>\n",
       "      <th>tokens</th>\n",
       "    </tr>\n",
       "  </thead>\n",
       "  <tbody>\n",
       "    <tr>\n",
       "      <th>0</th>\n",
       "      <td>if you were curious, price chose the lowest ch...</td>\n",
       "      <td>Neutral</td>\n",
       "      <td>[if, you, were, curious, ,, price, chose, the,...</td>\n",
       "    </tr>\n",
       "    <tr>\n",
       "      <th>1</th>\n",
       "      <td>true, not even 10k followers here yet.</td>\n",
       "      <td>Neutral</td>\n",
       "      <td>[true, ,, not, even, 10k, followers, here, yet...</td>\n",
       "    </tr>\n",
       "    <tr>\n",
       "      <th>2</th>\n",
       "      <td>dogecoin co-founder billy markus hits back at ...</td>\n",
       "      <td>Neutral</td>\n",
       "      <td>[dogecoin, co-founder, billy, markus, hits, ba...</td>\n",
       "    </tr>\n",
       "    <tr>\n",
       "      <th>3</th>\n",
       "      <td>i’m curious, do any bulls have a price where ...</td>\n",
       "      <td>Neutral</td>\n",
       "      <td>[i, ’, m, curious, ,, do, any, bulls, have, a,...</td>\n",
       "    </tr>\n",
       "    <tr>\n",
       "      <th>4</th>\n",
       "      <td>friday everybody buy 10 more on friday</td>\n",
       "      <td>Bullish</td>\n",
       "      <td>[friday, everybody, buy, 10, more, on, friday]</td>\n",
       "    </tr>\n",
       "  </tbody>\n",
       "</table>\n",
       "</div>"
      ],
      "text/plain": [
       "                                                text    label  \\\n",
       "0  if you were curious, price chose the lowest ch...  Neutral   \n",
       "1             true, not even 10k followers here yet.  Neutral   \n",
       "2  dogecoin co-founder billy markus hits back at ...  Neutral   \n",
       "3   i’m curious, do any bulls have a price where ...  Neutral   \n",
       "4             friday everybody buy 10 more on friday  Bullish   \n",
       "\n",
       "                                              tokens  \n",
       "0  [if, you, were, curious, ,, price, chose, the,...  \n",
       "1  [true, ,, not, even, 10k, followers, here, yet...  \n",
       "2  [dogecoin, co-founder, billy, markus, hits, ba...  \n",
       "3  [i, ’, m, curious, ,, do, any, bulls, have, a,...  \n",
       "4     [friday, everybody, buy, 10, more, on, friday]  "
      ]
     },
     "execution_count": 21,
     "metadata": {},
     "output_type": "execute_result"
    }
   ],
   "source": [
    "df.head()"
   ]
  },
  {
   "cell_type": "code",
   "execution_count": 22,
   "id": "cb0b6ffa-ef69-4496-b76c-62237ce02bef",
   "metadata": {},
   "outputs": [
    {
     "data": {
      "text/plain": [
       "['robinhood',\n",
       " 'and',\n",
       " 'dogecoin',\n",
       " 'are',\n",
       " 'giving',\n",
       " 'away',\n",
       " 'dogecoin',\n",
       " ',',\n",
       " 'bitcoin',\n",
       " 'and',\n",
       " 'e',\n",
       " '...']"
      ]
     },
     "execution_count": 22,
     "metadata": {},
     "output_type": "execute_result"
    }
   ],
   "source": [
    "df['tokens'][150000]"
   ]
  },
  {
   "cell_type": "code",
   "execution_count": 23,
   "id": "f7688557-0a63-4862-af6c-340fb0a8d2d9",
   "metadata": {},
   "outputs": [
    {
     "data": {
      "text/plain": [
       "['it',\n",
       " 'is',\n",
       " 'kind',\n",
       " 'of',\n",
       " 'tucked',\n",
       " 'that',\n",
       " 'a',\n",
       " 'count',\n",
       " 'done',\n",
       " 'as',\n",
       " 'a',\n",
       " 'second',\n",
       " 'iteration',\n",
       " 'from',\n",
       " 'a',\n",
       " 'known',\n",
       " 'conman',\n",
       " 'has',\n",
       " 'more',\n",
       " 'value',\n",
       " '.',\n",
       " 'basically',\n",
       " 'take',\n",
       " 'your',\n",
       " 'moment',\n",
       " 'and',\n",
       " 'run',\n",
       " 'or',\n",
       " 'don',\n",
       " '’',\n",
       " 't',\n",
       " 'complain',\n",
       " 'about',\n",
       " 'getting',\n",
       " 'tucked',\n",
       " 'without',\n",
       " 'lube',\n",
       " '.']"
      ]
     },
     "execution_count": 23,
     "metadata": {},
     "output_type": "execute_result"
    }
   ],
   "source": [
    "df['tokens'][20000]"
   ]
  },
  {
   "cell_type": "markdown",
   "id": "dab8c09c-7845-4de8-8e81-1e985309ef94",
   "metadata": {},
   "source": [
    "### Remove Stopwords"
   ]
  },
  {
   "cell_type": "code",
   "execution_count": 24,
   "id": "59d3e827-4a8a-467c-833b-122cd65238d1",
   "metadata": {},
   "outputs": [
    {
     "name": "stderr",
     "output_type": "stream",
     "text": [
      "100%|████████████████████████████████| 599975/599975 [00:14<00:00, 41421.43it/s]\n"
     ]
    }
   ],
   "source": [
    "# Load stop words\n",
    "sw = stopwords.words('english')\n",
    "# Obtaining Additional Stopwords From nltk\n",
    "sw.extend(['from', 'subject', 're', 'edu', 'use'])\n",
    "\n",
    "# Remove stop words\n",
    "df['tokens'] = [[word for word in t if word not in sw] for t in tqdm(df['tokens'])]"
   ]
  },
  {
   "cell_type": "markdown",
   "id": "36129f4b-6193-4ecd-93aa-d73bb8c6c8c0",
   "metadata": {},
   "source": [
    "### Remove Punctuation marks"
   ]
  },
  {
   "cell_type": "code",
   "execution_count": 26,
   "id": "0a2471a8-632c-4f57-b175-ced3d56a430b",
   "metadata": {},
   "outputs": [
    {
     "name": "stderr",
     "output_type": "stream",
     "text": [
      "100%|███████████████████████████████| 599975/599975 [00:05<00:00, 101735.62it/s]\n"
     ]
    }
   ],
   "source": [
    "tokenizers = RegexpTokenizer(r'\\w+')\n",
    "\n",
    "df['tokens'] = [[\"\".join(tokenizers.tokenize(word)) for word in t \n",
    "               if len(tokenizers.tokenize(word)) > 0]for t in tqdm(df['tokens'])]"
   ]
  },
  {
   "cell_type": "markdown",
   "id": "331ad2a9-8a0d-4103-89b6-e0a9f6bf88aa",
   "metadata": {},
   "source": [
    "### Word count distribution"
   ]
  },
  {
   "cell_type": "code",
   "execution_count": null,
   "id": "e18942d3-0dfc-412f-8ddc-a690355a98ca",
   "metadata": {},
   "outputs": [],
   "source": [
    "flat_tokens = []\n",
    "for t in df['tokens']:\n",
    "    for word in t:\n",
    "        flat_tokens.append(word)\n",
    "\n",
    "len(flat_tokens)"
   ]
  },
  {
   "cell_type": "code",
   "execution_count": null,
   "id": "f9b16bb8-b1a8-48e3-b254-5937981996af",
   "metadata": {},
   "outputs": [],
   "source": [
    "# Obtaining The Total Number Of Unique Words\n",
    "unique_words = len(list(set(flat_tokens)))\n",
    "unique_words"
   ]
  },
  {
   "cell_type": "code",
   "execution_count": null,
   "id": "4abb83e2-27e5-4949-bc29-eaada942086b",
   "metadata": {},
   "outputs": [],
   "source": [
    "# unique tokens\n",
    "counts = Counter(flat_tokens)\n",
    "len(counts)"
   ]
  },
  {
   "cell_type": "code",
   "execution_count": null,
   "id": "72d285b8-ba06-4de1-9957-35efe3ae7a89",
   "metadata": {},
   "outputs": [],
   "source": [
    "# most common tokes\n",
    "counts.most_common(10)"
   ]
  },
  {
   "cell_type": "code",
   "execution_count": 27,
   "id": "7fbc33ec-25eb-476c-9fb9-379ce28bfd17",
   "metadata": {},
   "outputs": [
    {
     "name": "stderr",
     "output_type": "stream",
     "text": [
      "100%|██████████████████████████████| 599975/599975 [00:00<00:00, 2097814.59it/s]\n"
     ]
    }
   ],
   "source": [
    "text = list(df['text'])\n",
    "\n",
    "# Count the frequency of each token\n",
    "counter = Counter([t for text in tqdm(df['tokens']) for t in text])"
   ]
  },
  {
   "cell_type": "code",
   "execution_count": 45,
   "id": "8d2a47f9-d7ce-4f16-895e-a9047e1ad1ac",
   "metadata": {},
   "outputs": [
    {
     "data": {
      "text/plain": [
       "90814"
      ]
     },
     "execution_count": 45,
     "metadata": {},
     "output_type": "execute_result"
    }
   ],
   "source": [
    "len(counter)"
   ]
  },
  {
   "cell_type": "code",
   "execution_count": 28,
   "id": "2b60f29b-b18b-4dc8-9d25-49b0524fb824",
   "metadata": {},
   "outputs": [
    {
     "data": {
      "text/plain": [
       "[('buy', 40233),\n",
       " ('crypto', 37415),\n",
       " ('get', 34378),\n",
       " ('like', 33952),\n",
       " ('bitcoin', 32645),\n",
       " ('going', 31813),\n",
       " ('go', 29995),\n",
       " ('time', 27580),\n",
       " ('back', 25344),\n",
       " ('see', 23732)]"
      ]
     },
     "execution_count": 28,
     "metadata": {},
     "output_type": "execute_result"
    }
   ],
   "source": [
    "# Print the 10 most common tokens\n",
    "counter.most_common(10)"
   ]
  },
  {
   "cell_type": "markdown",
   "id": "26ae27c9-5923-4681-9875-c0881a0c2685",
   "metadata": {},
   "source": [
    "----"
   ]
  },
  {
   "cell_type": "code",
   "execution_count": 29,
   "id": "05c905ea-17b4-483d-9635-70da7c964258",
   "metadata": {},
   "outputs": [
    {
     "name": "stderr",
     "output_type": "stream",
     "text": [
      "100%|██████████████████████████████| 599975/599975 [00:00<00:00, 1789703.86it/s]\n"
     ]
    }
   ],
   "source": [
    "clean_text = [\" \".join(text) for text in tqdm(df['tokens'])]"
   ]
  },
  {
   "cell_type": "code",
   "execution_count": 30,
   "id": "088bd61d-6084-484d-8782-07f031797078",
   "metadata": {},
   "outputs": [],
   "source": [
    "df['Clean_text'] = clean_text"
   ]
  },
  {
   "cell_type": "code",
   "execution_count": 31,
   "id": "9d9eecfc-b40f-49d3-8eef-2f0c829cfc13",
   "metadata": {},
   "outputs": [
    {
     "data": {
      "text/plain": [
       "'prepared real pain cometh'"
      ]
     },
     "execution_count": 31,
     "metadata": {},
     "output_type": "execute_result"
    }
   ],
   "source": [
    "clean_text[13]"
   ]
  },
  {
   "cell_type": "code",
   "execution_count": 32,
   "id": "f07469e5-f3a6-42cb-9bbf-762b4334e87a",
   "metadata": {},
   "outputs": [
    {
     "data": {
      "text/plain": [
       "['prepared', 'real', 'pain', 'cometh']"
      ]
     },
     "execution_count": 32,
     "metadata": {},
     "output_type": "execute_result"
    }
   ],
   "source": [
    "df['tokens'][13]"
   ]
  },
  {
   "cell_type": "code",
   "execution_count": 33,
   "id": "551fcafb-dfd2-4e75-9de5-01d99405d833",
   "metadata": {},
   "outputs": [
    {
     "data": {
      "text/plain": [
       "'dogecoin cofounder billy markus hits back mozillas decision halt crypto donations calls internet outrage hypocritical stupid'"
      ]
     },
     "execution_count": 33,
     "metadata": {},
     "output_type": "execute_result"
    }
   ],
   "source": [
    "clean_text[2]"
   ]
  },
  {
   "cell_type": "code",
   "execution_count": 34,
   "id": "65179236-a739-4387-bbdf-c42aa7ba5f79",
   "metadata": {},
   "outputs": [
    {
     "data": {
      "text/plain": [
       "['dogecoin',\n",
       " 'cofounder',\n",
       " 'billy',\n",
       " 'markus',\n",
       " 'hits',\n",
       " 'back',\n",
       " 'mozillas',\n",
       " 'decision',\n",
       " 'halt',\n",
       " 'crypto',\n",
       " 'donations',\n",
       " 'calls',\n",
       " 'internet',\n",
       " 'outrage',\n",
       " 'hypocritical',\n",
       " 'stupid']"
      ]
     },
     "execution_count": 34,
     "metadata": {},
     "output_type": "execute_result"
    }
   ],
   "source": [
    "df['tokens'][2]"
   ]
  },
  {
   "cell_type": "code",
   "execution_count": 35,
   "id": "59ac4e21-0745-494b-b855-bbd0fa06518c",
   "metadata": {},
   "outputs": [
    {
     "data": {
      "text/html": [
       "<div>\n",
       "<style scoped>\n",
       "    .dataframe tbody tr th:only-of-type {\n",
       "        vertical-align: middle;\n",
       "    }\n",
       "\n",
       "    .dataframe tbody tr th {\n",
       "        vertical-align: top;\n",
       "    }\n",
       "\n",
       "    .dataframe thead th {\n",
       "        text-align: right;\n",
       "    }\n",
       "</style>\n",
       "<table border=\"1\" class=\"dataframe\">\n",
       "  <thead>\n",
       "    <tr style=\"text-align: right;\">\n",
       "      <th></th>\n",
       "      <th>text</th>\n",
       "      <th>label</th>\n",
       "      <th>tokens</th>\n",
       "      <th>Clean_text</th>\n",
       "    </tr>\n",
       "  </thead>\n",
       "  <tbody>\n",
       "    <tr>\n",
       "      <th>0</th>\n",
       "      <td>if you were curious, price chose the lowest ch...</td>\n",
       "      <td>Neutral</td>\n",
       "      <td>[curious, price, chose, lowest, chamber, good,...</td>\n",
       "      <td>curious price chose lowest chamber good imo</td>\n",
       "    </tr>\n",
       "    <tr>\n",
       "      <th>1</th>\n",
       "      <td>true, not even 10k followers here yet.</td>\n",
       "      <td>Neutral</td>\n",
       "      <td>[true, even, 10k, followers, yet]</td>\n",
       "      <td>true even 10k followers yet</td>\n",
       "    </tr>\n",
       "    <tr>\n",
       "      <th>2</th>\n",
       "      <td>dogecoin co-founder billy markus hits back at ...</td>\n",
       "      <td>Neutral</td>\n",
       "      <td>[dogecoin, cofounder, billy, markus, hits, bac...</td>\n",
       "      <td>dogecoin cofounder billy markus hits back mozi...</td>\n",
       "    </tr>\n",
       "    <tr>\n",
       "      <th>3</th>\n",
       "      <td>i’m curious, do any bulls have a price where ...</td>\n",
       "      <td>Neutral</td>\n",
       "      <td>[curious, bulls, price, pull, either, positive...</td>\n",
       "      <td>curious bulls price pull either positive negat...</td>\n",
       "    </tr>\n",
       "    <tr>\n",
       "      <th>4</th>\n",
       "      <td>friday everybody buy 10 more on friday</td>\n",
       "      <td>Bullish</td>\n",
       "      <td>[friday, everybody, buy, 10, friday]</td>\n",
       "      <td>friday everybody buy 10 friday</td>\n",
       "    </tr>\n",
       "  </tbody>\n",
       "</table>\n",
       "</div>"
      ],
      "text/plain": [
       "                                                text    label  \\\n",
       "0  if you were curious, price chose the lowest ch...  Neutral   \n",
       "1             true, not even 10k followers here yet.  Neutral   \n",
       "2  dogecoin co-founder billy markus hits back at ...  Neutral   \n",
       "3   i’m curious, do any bulls have a price where ...  Neutral   \n",
       "4             friday everybody buy 10 more on friday  Bullish   \n",
       "\n",
       "                                              tokens  \\\n",
       "0  [curious, price, chose, lowest, chamber, good,...   \n",
       "1                  [true, even, 10k, followers, yet]   \n",
       "2  [dogecoin, cofounder, billy, markus, hits, bac...   \n",
       "3  [curious, bulls, price, pull, either, positive...   \n",
       "4               [friday, everybody, buy, 10, friday]   \n",
       "\n",
       "                                          Clean_text  \n",
       "0        curious price chose lowest chamber good imo  \n",
       "1                        true even 10k followers yet  \n",
       "2  dogecoin cofounder billy markus hits back mozi...  \n",
       "3  curious bulls price pull either positive negat...  \n",
       "4                     friday everybody buy 10 friday  "
      ]
     },
     "execution_count": 35,
     "metadata": {},
     "output_type": "execute_result"
    }
   ],
   "source": [
    "df.head()"
   ]
  },
  {
   "cell_type": "markdown",
   "id": "53e1271b-07b3-4c38-8c22-f149de51f539",
   "metadata": {},
   "source": [
    "## Vectorization"
   ]
  },
  {
   "cell_type": "code",
   "execution_count": 36,
   "id": "e1de8557-2575-4000-953c-4156f682aeda",
   "metadata": {},
   "outputs": [],
   "source": [
    "vect = CountVectorizer(min_df=0.001, max_df=0.8)\n",
    "\n",
    "X = vect.fit_transform(df['Clean_text'])"
   ]
  },
  {
   "cell_type": "markdown",
   "id": "8a5027d8-c779-4db6-bd59-e64afdc9624e",
   "metadata": {},
   "source": [
    "1. The `min_df=600` parameter sets the minimum document frequency for the CountVectorizer. This means that only terms that appear in at least `600` documents will be included in the vocabulary. Terms that appear in fewer than `600` documents will be ignored.\n",
    "2. `max_df`: Specifies the maximum document frequency that a word can have to be considered for vectorization. This parameter can be useful to filter out words that are too common and may not be informative. The default value is 1.0, which means that words that appear in all documents will be removed.\n",
    "3. `ngram_range`: Specifies the range of `n-grams` to consider for vectorization. An n-gram is a contiguous sequence of n words. For example, if `ngram_range=(1,2)`, the vectorizer will consider both individual words and pairs of consecutive words (bigrams). This parameter can be useful to capture not only individual words but also the context in which they appear. The default value is (1,1), which means that only individual words will be considered."
   ]
  },
  {
   "cell_type": "code",
   "execution_count": 37,
   "id": "3e7ab3a8-80f5-45f3-a4f1-e045d4bcf927",
   "metadata": {},
   "outputs": [
    {
     "name": "stdout",
     "output_type": "stream",
     "text": [
      "Shape of X: (599975, 1252)\n",
      "Sparsity of X: 0.9957010229526336\n"
     ]
    }
   ],
   "source": [
    "# Check the shape of X\n",
    "print(\"Shape of X:\", X.shape)\n",
    "\n",
    "# Check the sparsity of X\n",
    "sparsity = 1.0 - (X.count_nonzero() / float(X.shape[0] * X.shape[1]))\n",
    "print(\"Sparsity of X:\", sparsity)"
   ]
  },
  {
   "cell_type": "markdown",
   "id": "177fa24d-08ff-4204-b71f-e949ffcff9b7",
   "metadata": {},
   "source": [
    "1. The `shape of X` indicates that there are `599,975` documents (i.e., tweets) and `1,252` unique words in the vocabulary after filtering by `min_df` and `max_df`.\n",
    "\n",
    "2. The `sparsity of X` is quite high, at `0.9957`, which means that over `99.5%` of the entries in the matrix are `zero`. This is not unexpected, given that the number of `unique` words is much smaller than the number of documents, and many of the words that do appear are likely to be rare."
   ]
  },
  {
   "cell_type": "code",
   "execution_count": 38,
   "id": "31297f6e-550b-439e-b8c6-7b07ae01d6a8",
   "metadata": {},
   "outputs": [
    {
     "name": "stdout",
     "output_type": "stream",
     "text": [
      "Shape of X: (599975, 2483)\n",
      "Sparsity of X: 0.9974400423483882\n"
     ]
    }
   ],
   "source": [
    "# Define the CountVectorizer object with updated parameters\n",
    "vect = CountVectorizer(min_df=0.0005, max_df=0.5, ngram_range=(1, 2), max_features=5000)\n",
    "\n",
    "# Apply the vectorizer to the clean text data\n",
    "X1 = vect.fit_transform(df['Clean_text'])\n",
    "\n",
    "# Print the shape and sparsity of the resulting matrix\n",
    "print(\"Shape of X:\", X1.shape)\n",
    "print(\"Sparsity of X:\", 1 - X1.nnz / float(X1.shape[0] * X1.shape[1]))"
   ]
  },
  {
   "cell_type": "markdown",
   "id": "8524dd3c-7e3b-4c92-8767-e1c10f199325",
   "metadata": {},
   "source": [
    "It looks like reducing the `min_df` and `max_df` values and adding additional parameters has resulted in a higher number of features in the vocabulary (`2483` instead of `1252`), but also a slightly higher sparsity (`0.9974` instead of `0.9957`). In general, it's a trade-off between capturing more information versus reducing noise and computational complexity."
   ]
  },
  {
   "cell_type": "code",
   "execution_count": 39,
   "id": "76145ff8-d09a-4935-99e4-e790c355ed24",
   "metadata": {},
   "outputs": [
    {
     "name": "stdout",
     "output_type": "stream",
     "text": [
      "Shape of X: (599975, 1342)\n",
      "Sparsity of X: 0.9958551874584441\n"
     ]
    }
   ],
   "source": [
    "vect = CountVectorizer(min_df=600, max_df=0.8, ngram_range=(1, 2))\n",
    "\n",
    "# Apply the vectorizer to the clean text data\n",
    "X2 = vect.fit_transform(df['Clean_text'])\n",
    "\n",
    "# Print the shape and sparsity of the resulting matrix\n",
    "print(\"Shape of X:\", X2.shape)\n",
    "print(\"Sparsity of X:\", 1 - X2.nnz / float(X2.shape[0] * X2.shape[1]))"
   ]
  },
  {
   "cell_type": "markdown",
   "id": "1e2547ed-8aea-4cd7-8efb-8c52dbec8011",
   "metadata": {},
   "source": [
    "It looks like by setting `min_df=600`, we have drastically reduced the size of the vocabulary (`1342` instead of `2483`) and increased the sparsity of the matrix (`0.9958` instead of `0.9974`). Additionally, by setting `ngram_range=(1, 2)`, we have included bigrams as well as unigrams in the vectorization process. This may capture more information about phrases and collocations in the text data. "
   ]
  },
  {
   "cell_type": "code",
   "execution_count": 40,
   "id": "8ce7c46c-fb74-4eb2-8ec9-e6b6fc823892",
   "metadata": {},
   "outputs": [
    {
     "name": "stdout",
     "output_type": "stream",
     "text": [
      "Shape of X: (599975, 837)\n",
      "Sparsity of X: 0.9942089422981234\n"
     ]
    }
   ],
   "source": [
    "# lET'S TRY SOMETHING ELSE\n",
    "\n",
    "# Create an instance of the vectorizer with desired parameters\n",
    "vectorizer = TfidfVectorizer(min_df=1000)\n",
    "\n",
    "# Apply the vectorizer to the clean text data\n",
    "X3 = vectorizer.fit_transform(df['Clean_text'])\n",
    "\n",
    "# Print the shape and sparsity of the resulting matrix\n",
    "print(\"Shape of X:\", X3.shape)\n",
    "print(\"Sparsity of X:\", 1 - X3.nnz / float(X3.shape[0] * X3.shape[1]))"
   ]
  },
  {
   "cell_type": "markdown",
   "id": "b7a782a2-34d0-41f3-8fa0-0b318ccc4b4e",
   "metadata": {},
   "source": [
    "## Clustering"
   ]
  },
  {
   "cell_type": "code",
   "execution_count": 44,
   "id": "1ebb1e27-9e4b-4d52-907e-377031ce77c9",
   "metadata": {},
   "outputs": [
    {
     "data": {
      "image/png": "[encoded data removed]",
      "text/plain": [
       "<Figure size 640x480 with 1 Axes>"
      ]
     },
     "metadata": {},
     "output_type": "display_data"
    }
   ],
   "source": [
    "# # Define a range of k values to test\n",
    "# k_values = range(1, 11)\n",
    "\n",
    "# # Compute the WCSS for each value of k\n",
    "# wcss_values = []\n",
    "# for k in k_values:\n",
    "#     kmeans = KMeans(n_clusters=k, random_state=42)\n",
    "#     kmeans.fit(X3)\n",
    "#     wcss_values.append(kmeans.inertia_)\n",
    "\n",
    "# # Plot the WCSS as a function of k\n",
    "# plt.plot(k_values, wcss_values)\n",
    "# plt.xlabel('Number of clusters (k)')\n",
    "# plt.ylabel('Within-Cluster Sum of Squares (WCSS)')\n",
    "# plt.title('Elbow Method')\n",
    "# plt.show()"
   ]
  },
  {
   "cell_type": "code",
   "execution_count": 42,
   "id": "14cb5f86-13fd-4386-a64c-9d2575c76d41",
   "metadata": {},
   "outputs": [
    {
     "data": {
      "image/png": "[encoded data removed]",
      "text/plain": [
       "<Figure size 640x480 with 1 Axes>"
      ]
     },
     "metadata": {},
     "output_type": "display_data"
    }
   ],
   "source": [
    "# # Define a range of k values to test\n",
    "# k_values = range(1, 11)\n",
    "\n",
    "# # Compute the WCSS for each value of k\n",
    "# wcss_values = []\n",
    "# for k in k_values:\n",
    "#     kmeans = KMeans(n_clusters=k, random_state=42)\n",
    "#     kmeans.fit(X3)\n",
    "#     wcss_values.append(kmeans.inertia_)\n",
    "\n",
    "# # Plot the WCSS as a function of k\n",
    "# plt.plot(k_values, wcss_values)\n",
    "# plt.xlabel('Number of clusters (k)')\n",
    "# plt.ylabel('Within-Cluster Sum of Squares (WCSS)')\n",
    "# plt.title('Elbow Method')\n",
    "# plt.show()"
   ]
  },
  {
   "cell_type": "code",
   "execution_count": null,
   "id": "502d60f4-8a09-45e6-b264-9d1a404132b9",
   "metadata": {},
   "outputs": [],
   "source": []
  }
 ],
 "metadata": {
  "kernelspec": {
   "display_name": "Python 3 (ipykernel)",
   "language": "python",
   "name": "python3"
  },
  "language_info": {
   "codemirror_mode": {
    "name": "ipython",
    "version": 3
   },
   "file_extension": ".py",
   "mimetype": "text/x-python",
   "name": "python",
   "nbconvert_exporter": "python",
   "pygments_lexer": "ipython3",
   "version": "3.9.16"
  }
 },
 "nbformat": 4,
 "nbformat_minor": 5
}
